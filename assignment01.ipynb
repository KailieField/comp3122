{
 "cells": [
  {
   "metadata": {
    "ExecuteTime": {
     "end_time": "2024-09-23T20:09:28.559095Z",
     "start_time": "2024-09-23T20:09:28.426322Z"
    }
   },
   "cell_type": "code",
   "source": [
    "\"\"\" ---------------------------------------------------------------------------------------------------------------------------------------------------------  \n",
    "                                        ASSIGNMENT 01 (INDIVIDUAL ASSIGNMENT) | KAILIE FIELD | 100627702\n",
    "                                                    SUBMISSION DUE DATE: 29 SEPTEMBER 2024\n",
    " \n",
    " \n",
    " Re: VanderPlas, J. (2017). Chapter 2. Introduction to NumPy. Python data science handbook essential tools for working with data (pp. 33-96). O'Reilly Media Inc.       \n",
    "------------------------------------------------------------------------------------------------------------------------------------------------------------ \"\"\"\n"
   ],
   "id": "fbc121e30a2defb3",
   "outputs": [],
   "execution_count": 1
  },
  {
   "metadata": {
    "ExecuteTime": {
     "end_time": "2024-09-25T21:29:51.644416Z",
     "start_time": "2024-09-25T21:29:51.340315Z"
    }
   },
   "cell_type": "code",
   "source": [
    "# -- [ Imports ]:\n",
    "# -- NumPy (Numerical Python)\n",
    "# -- Provides an interface to store and operate on dense data buffers\n",
    "# -- The arrays can be considered python's built-in list type, np arrays provide efficient storage and data\n",
    "# -- Numpy arrays provide efficient storage and data operations as the arrays grow in size\n",
    "import numpy as np\n",
    "\n",
    "# -- [ Matplotlib.pyplot ]:\n",
    "# -- a multiplatform data visualization library built on Numpy arrays and designed to work with broader Scipy stacks\n",
    "import matplotlib.pyplot as plt\n"
   ],
   "id": "64a08ad2c91c4fc1",
   "outputs": [],
   "execution_count": 1
  },
  {
   "metadata": {
    "ExecuteTime": {
     "end_time": "2024-09-25T21:35:30.434877Z",
     "start_time": "2024-09-25T21:35:30.431109Z"
    }
   },
   "cell_type": "code",
   "source": [
    "# -- NumPy to load text from biostats.csv using dtype str \n",
    "biostats = np.loadtxt('data/biostats1.csv', skiprows=1, delimiter=',', dtype=str)\n",
    "# -- Fetching the age column\n",
    "# -- Accessing a multidimensional array using slicing \n",
    "# -- because start or stop have not been assigned values\n",
    "# -- the default of start is set to 0, stop = size of dimension, with a step of 2\n",
    "age = np.array(biostats[::, 2], dtype=int)\n",
    "print(age)"
   ],
   "id": "cc6b4701ecb25098",
   "outputs": [
    {
     "name": "stdout",
     "output_type": "stream",
     "text": [
      "[41 42 32 39 30 33 26 30 53 32 47 34 23 36 38 31 29 28]\n"
     ]
    }
   ],
   "execution_count": 9
  },
  {
   "metadata": {
    "ExecuteTime": {
     "end_time": "2024-09-25T21:31:05.686005Z",
     "start_time": "2024-09-25T21:31:05.682227Z"
    }
   },
   "cell_type": "code",
   "source": [
    "# -- [ Average ] : \n",
    "# -- the sum of all data points in the data set\n",
    "# -- divided by the number of data points\n",
    "\n",
    "print(\"Average Age: \", np.mean(age))"
   ],
   "id": "3a23851a1fb2f0e7",
   "outputs": [
    {
     "name": "stdout",
     "output_type": "stream",
     "text": [
      "Average Age:  34.666666666666664\n"
     ]
    }
   ],
   "execution_count": 5
  },
  {
   "metadata": {
    "ExecuteTime": {
     "end_time": "2024-09-25T21:31:08.458500Z",
     "start_time": "2024-09-25T21:31:08.455076Z"
    }
   },
   "cell_type": "code",
   "source": [
    "# -- [ Standard Deviation ]:\n",
    "# -- Aggregation function available through Numpy\n",
    "# -- the difference of each data point value in our dataset and our mean\n",
    "# -- squaring these differences\n",
    "# -- taking the sum of the squares and dividing it by the number of data points, minus one\n",
    "\n",
    "print(\"Standard Deviation: \", np.std(age))"
   ],
   "id": "fecbff261e5e3802",
   "outputs": [
    {
     "name": "stdout",
     "output_type": "stream",
     "text": [
      "Standard Deviation:  7.363574011458175\n"
     ]
    }
   ],
   "execution_count": 6
  },
  {
   "metadata": {
    "ExecuteTime": {
     "end_time": "2024-09-25T21:31:10.449485Z",
     "start_time": "2024-09-25T21:31:10.446235Z"
    }
   },
   "cell_type": "code",
   "source": [
    "# -- [ MIN and MAX ]:\n",
    "# -- Two more aggregated functions\n",
    "# -- finding the minimum and maximum data point respectively\n",
    "\n",
    "print(\"Minimum Age: \", np.min(age))\n",
    "print(\"Maximum Age: \", np.max(age))"
   ],
   "id": "2485665d03f304f8",
   "outputs": [
    {
     "name": "stdout",
     "output_type": "stream",
     "text": [
      "Minimum Age:  23\n",
      "Maximum Age:  53\n"
     ]
    }
   ],
   "execution_count": 7
  },
  {
   "metadata": {
    "ExecuteTime": {
     "end_time": "2024-09-24T00:41:18.458731Z",
     "start_time": "2024-09-24T00:41:18.453862Z"
    }
   },
   "cell_type": "code",
   "source": [
    "# -- [ 30th and 70th Percentiles ]:\n",
    "# -- arranging the data set in ascending order\n",
    "# -- diving the data set into 100 equal parts\n",
    "# -- the percentile is the amount of data points lower than the specified data point\n",
    "\n",
    "print(\"30th Percentile: \", np.percentile(age, 30))\n",
    "print(\"70th Percentile: \", np.percentile(age, 70))"
   ],
   "id": "d6eaf58cca2b8941",
   "outputs": [
    {
     "name": "stdout",
     "output_type": "stream",
     "text": [
      "30th Percentile:  30.1\n"
     ]
    }
   ],
   "execution_count": 15
  },
  {
   "metadata": {
    "ExecuteTime": {
     "end_time": "2024-09-24T00:41:18.937356Z",
     "start_time": "2024-09-24T00:41:18.934824Z"
    }
   },
   "cell_type": "code",
   "source": [
    "# -- [ Median ]: \n",
    "# -- Arranging the data points from smallest to largest\n",
    "# -- if the number of data points is odd, the median is the middle data point in the list\n",
    "# -- If the number of data points is even, the median is the average of the two middle data points in the list\n",
    "\n",
    "print(\"Median Age: \", np.median(age))"
   ],
   "id": "34d496baab109bd9",
   "outputs": [
    {
     "name": "stdout",
     "output_type": "stream",
     "text": [
      "Median Age:  32.5\n"
     ]
    }
   ],
   "execution_count": 16
  },
  {
   "metadata": {
    "ExecuteTime": {
     "end_time": "2024-09-24T00:41:21.091145Z",
     "start_time": "2024-09-24T00:41:20.944704Z"
    }
   },
   "cell_type": "code",
   "source": [
    "# -- Visual representation of our data set using matplotlib.pyplot\n",
    "plt.hist(age)\n",
    "plt.title(\"Age Distribution by Kailie Field\")\n",
    "plt.xlabel(\"Age\")\n",
    "plt.ylabel(\"Number\")\n",
    "plt.show()"
   ],
   "id": "371d5d25a0112cd3",
   "outputs": [
    {
     "data": {
      "text/plain": [
       "<Figure size 640x480 with 1 Axes>"
      ],
      "image/png": "[encoded data removed]"
     },
     "metadata": {},
     "output_type": "display_data"
    }
   ],
   "execution_count": 18
  },
  {
   "metadata": {},
   "cell_type": "code",
   "outputs": [],
   "execution_count": null,
   "source": "",
   "id": "fa15c87697237452"
  }
 ],
 "metadata": {
  "kernelspec": {
   "display_name": "Python 3",
   "language": "python",
   "name": "python3"
  },
  "language_info": {
   "codemirror_mode": {
    "name": "ipython",
    "version": 2
   },
   "file_extension": ".py",
   "mimetype": "text/x-python",
   "name": "python",
   "nbconvert_exporter": "python",
   "pygments_lexer": "ipython2",
   "version": "2.7.6"
  }
 },
 "nbformat": 4,
 "nbformat_minor": 5
}
